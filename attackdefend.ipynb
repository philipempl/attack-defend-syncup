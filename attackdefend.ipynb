{
 "cells": [
  {
   "cell_type": "markdown",
   "id": "BcHqF9GreTE3",
   "metadata": {
    "id": "BcHqF9GreTE3"
   },
   "source": [
    "# Analysis on Vulnerabilities and Attack Techniques\n",
    "\n",
    "This notebook performs various analyses on the merged dataset of vulnerabilities and attack techniques. The analyses include:\n",
    "\n",
    "1. Creating charts on the most used attack techniques.\n",
    "2. Visualizing the number of CVEs per year.\n",
    "3. Generating a box plot for each publisher showing the median CVSS score.\n",
    "4. Creating a box plot showing the CVSS score, impact score, and exploitability score.\n",
    "5. Displaying a pie chart on the tactics.\n",
    "6. Displaying a pie chart on the defend IDs.\n"
   ]
  },
  {
   "cell_type": "markdown",
   "id": "b0677b81",
   "metadata": {},
   "source": [
    "## Installations"
   ]
  },
  {
   "cell_type": "code",
   "execution_count": 13,
   "id": "3f5d319d",
   "metadata": {},
   "outputs": [
    {
     "name": "stdout",
     "output_type": "stream",
     "text": [
      "Requirement already satisfied: kaggle in /Users/philipempl/anaconda3/lib/python3.11/site-packages (1.6.14)\n",
      "Requirement already satisfied: matplotlib in /Users/philipempl/anaconda3/lib/python3.11/site-packages (3.7.2)\n",
      "Requirement already satisfied: seaborn in /Users/philipempl/anaconda3/lib/python3.11/site-packages (0.12.2)\n",
      "Requirement already satisfied: six>=1.10 in /Users/philipempl/anaconda3/lib/python3.11/site-packages (from kaggle) (1.16.0)\n",
      "Requirement already satisfied: certifi>=2023.7.22 in /Users/philipempl/anaconda3/lib/python3.11/site-packages (from kaggle) (2023.7.22)\n",
      "Requirement already satisfied: python-dateutil in /Users/philipempl/anaconda3/lib/python3.11/site-packages (from kaggle) (2.8.2)\n",
      "Requirement already satisfied: requests in /Users/philipempl/anaconda3/lib/python3.11/site-packages (from kaggle) (2.31.0)\n",
      "Requirement already satisfied: tqdm in /Users/philipempl/anaconda3/lib/python3.11/site-packages (from kaggle) (4.65.0)\n",
      "Requirement already satisfied: python-slugify in /Users/philipempl/anaconda3/lib/python3.11/site-packages (from kaggle) (5.0.2)\n",
      "Requirement already satisfied: urllib3 in /Users/philipempl/anaconda3/lib/python3.11/site-packages (from kaggle) (1.26.16)\n",
      "Requirement already satisfied: bleach in /Users/philipempl/anaconda3/lib/python3.11/site-packages (from kaggle) (4.1.0)\n",
      "Requirement already satisfied: contourpy>=1.0.1 in /Users/philipempl/anaconda3/lib/python3.11/site-packages (from matplotlib) (1.0.5)\n",
      "Requirement already satisfied: cycler>=0.10 in /Users/philipempl/anaconda3/lib/python3.11/site-packages (from matplotlib) (0.11.0)\n",
      "Requirement already satisfied: fonttools>=4.22.0 in /Users/philipempl/anaconda3/lib/python3.11/site-packages (from matplotlib) (4.25.0)\n",
      "Requirement already satisfied: kiwisolver>=1.0.1 in /Users/philipempl/anaconda3/lib/python3.11/site-packages (from matplotlib) (1.4.4)\n",
      "Requirement already satisfied: numpy>=1.20 in /Users/philipempl/anaconda3/lib/python3.11/site-packages (from matplotlib) (1.24.3)\n",
      "Requirement already satisfied: packaging>=20.0 in /Users/philipempl/anaconda3/lib/python3.11/site-packages (from matplotlib) (23.1)\n",
      "Requirement already satisfied: pillow>=6.2.0 in /Users/philipempl/anaconda3/lib/python3.11/site-packages (from matplotlib) (9.4.0)\n",
      "Requirement already satisfied: pyparsing<3.1,>=2.3.1 in /Users/philipempl/anaconda3/lib/python3.11/site-packages (from matplotlib) (3.0.9)\n",
      "Requirement already satisfied: pandas>=0.25 in /Users/philipempl/anaconda3/lib/python3.11/site-packages (from seaborn) (2.0.3)\n",
      "Requirement already satisfied: pytz>=2020.1 in /Users/philipempl/anaconda3/lib/python3.11/site-packages (from pandas>=0.25->seaborn) (2023.3.post1)\n",
      "Requirement already satisfied: tzdata>=2022.1 in /Users/philipempl/anaconda3/lib/python3.11/site-packages (from pandas>=0.25->seaborn) (2023.3)\n",
      "Requirement already satisfied: webencodings in /Users/philipempl/anaconda3/lib/python3.11/site-packages (from bleach->kaggle) (0.5.1)\n",
      "Requirement already satisfied: text-unidecode>=1.3 in /Users/philipempl/anaconda3/lib/python3.11/site-packages (from python-slugify->kaggle) (1.3)\n",
      "Requirement already satisfied: charset-normalizer<4,>=2 in /Users/philipempl/anaconda3/lib/python3.11/site-packages (from requests->kaggle) (2.0.4)\n",
      "Requirement already satisfied: idna<4,>=2.5 in /Users/philipempl/anaconda3/lib/python3.11/site-packages (from requests->kaggle) (3.4)\n"
     ]
    }
   ],
   "source": [
    "!pip install kaggle matplotlib seaborn"
   ]
  },
  {
   "cell_type": "markdown",
   "id": "ddc4e026",
   "metadata": {},
   "source": [
    "## Imports"
   ]
  },
  {
   "cell_type": "code",
   "execution_count": 14,
   "id": "301e3f75",
   "metadata": {},
   "outputs": [],
   "source": [
    "import os\n",
    "import zipfile\n",
    "import pandas as pd\n",
    "import matplotlib.pyplot as plt\n",
    "import seaborn as sns"
   ]
  },
  {
   "cell_type": "markdown",
   "id": "c6332093",
   "metadata": {},
   "source": [
    "## Download Attacker Data from Kaggle"
   ]
  },
  {
   "cell_type": "code",
   "execution_count": 15,
   "id": "01c05adb",
   "metadata": {},
   "outputs": [
    {
     "name": "stdout",
     "output_type": "stream",
     "text": [
      "Dataset URL: https://www.kaggle.com/datasets/philipempl/attacker-data\n",
      "License(s): other\n",
      "attacker-data.zip: Skipping, found more recently modified local copy (use --force to force download)\n",
      "['attacker-data.zip', 'results.csv']\n"
     ]
    }
   ],
   "source": [
    "# Step 2: Define the dataset identifier\n",
    "dataset_identifier = 'philipempl/attacker-data'  # Replace with your dataset identifier\n",
    "\n",
    "# Step 3: Create a directory to store the dataset\n",
    "os.makedirs('kaggle_dataset', exist_ok=True)\n",
    "\n",
    "# Step 4: Download the dataset\n",
    "!kaggle datasets download -d {dataset_identifier} -p kaggle_dataset\n",
    "\n",
    "# Step 5: List all downloaded files\n",
    "downloaded_files = os.listdir('kaggle_dataset')\n",
    "print(downloaded_files)\n",
    "\n",
    "# Step 6: Extract all zip files in the directory\n",
    "for file_name in downloaded_files:\n",
    "    if file_name.endswith('.zip'):\n",
    "        with zipfile.ZipFile(os.path.join('kaggle_dataset', file_name), 'r') as zip_ref:\n",
    "            zip_ref.extractall('kaggle_dataset')"
   ]
  },
  {
   "cell_type": "markdown",
   "id": "PWF1ECXweTE5",
   "metadata": {
    "id": "PWF1ECXweTE5"
   },
   "source": [
    "## Load the Data\n",
    "\n",
    "First, we need to load the data from the merged CSV file and prepare it for analysis."
   ]
  },
  {
   "cell_type": "code",
   "execution_count": null,
   "id": "1c1d00e1",
   "metadata": {
    "colab": {
     "base_uri": "https://localhost:8080/",
     "height": 265
    },
    "id": "1c1d00e1",
    "outputId": "686af39d-e5e1-43f9-e8af-e1fae59908cc"
   },
   "outputs": [],
   "source": [
    "df = pd.read_csv('kaggle_dataset/results.csv')\n",
    "df.head()"
   ]
  },
  {
   "cell_type": "code",
   "execution_count": null,
   "id": "oYHLTMzQefn0",
   "metadata": {
    "colab": {
     "base_uri": "https://localhost:8080/"
    },
    "id": "oYHLTMzQefn0",
    "outputId": "ca34f336-da0a-4b6c-dc53-977674efc077"
   },
   "outputs": [],
   "source": [
    "# Extract year from CVE ID\n",
    "df_temp = df\n",
    "\n",
    "# Extract the year from the CVE identifier\n",
    "df_temp['year'] = df_temp['cve_id'].str.split('-').str[1]\n",
    "\n",
    "# Convert to integer if necessary\n",
    "df_temp['year'] = df_temp['year'].astype(int)\n",
    "\n",
    "# Remove specified columns\n",
    "df_temp = df_temp.drop(columns=['attack_technique_id', 'similarity', 'attack_mitigation_id', 'd3fend_id', 'tactic_label'])\n",
    "\n",
    "# Remove duplicate entries based on CVE ID, keeping the first occurrence\n",
    "df_cve_agg = df_temp.drop_duplicates(subset=['cve_id'])\n",
    "df_cve_agg.head()\n",
    "print(len(df_cve_agg))"
   ]
  },
  {
   "cell_type": "markdown",
   "id": "1LN9uBFXeTE6",
   "metadata": {
    "id": "1LN9uBFXeTE6"
   },
   "source": [
    "## Top 10 Most Used Attack Techniques\n",
    "\n",
    "This section creates a bar plot to show the top 10 most used attack techniques."
   ]
  },
  {
   "cell_type": "code",
   "execution_count": null,
   "id": "5e5d0d15",
   "metadata": {
    "colab": {
     "base_uri": "https://localhost:8080/",
     "height": 823
    },
    "id": "5e5d0d15",
    "outputId": "6f3c730f-05e6-44f1-be42-f0e54a4290fb"
   },
   "outputs": [],
   "source": [
    "# Plot 1: Most used attack techniques\n",
    "attack_technique_counts = df['attack_technique_id'].value_counts().head(50)\n",
    "plt.figure(figsize=(12, 8))\n",
    "sns.barplot(x=attack_technique_counts.values, y=attack_technique_counts.index, palette='viridis')\n",
    "plt.title('Top 50 Most Used Attack Techniques')\n",
    "plt.xlabel('Count')\n",
    "plt.ylabel('Attack Technique ID')\n",
    "plt.show()"
   ]
  },
  {
   "cell_type": "markdown",
   "id": "_bq2qmKReTE7",
   "metadata": {
    "id": "_bq2qmKReTE7"
   },
   "source": [
    "## CVEs per Year\n",
    "\n",
    "This section visualizes the number of CVEs per year using a line plot."
   ]
  },
  {
   "cell_type": "code",
   "execution_count": null,
   "id": "9b0e3d6b",
   "metadata": {
    "colab": {
     "base_uri": "https://localhost:8080/",
     "height": 328
    },
    "id": "9b0e3d6b",
    "outputId": "0c5de919-a25b-4335-bed6-8f9533d88ddd"
   },
   "outputs": [],
   "source": [
    "years = list(range(df_cve_agg['year'].min(), df_cve_agg['year'].max() + 1))\n",
    "cves_per_year = df_cve_agg['year'].value_counts().reindex(years, fill_value=0).sort_index()\n",
    "plt.figure(figsize=(20, 5))\n",
    "sns.lineplot(x=cves_per_year.index, y=cves_per_year.values, marker='o')\n",
    "plt.title('CVEs per Year')\n",
    "plt.xlabel('Year')\n",
    "plt.ylabel('Number of CVEs')\n",
    "plt.xticks(cves_per_year.index)\n",
    "plt.show()"
   ]
  },
  {
   "cell_type": "markdown",
   "id": "FP9CMxL7eTE8",
   "metadata": {
    "id": "FP9CMxL7eTE8"
   },
   "source": [
    "## CVSS Score Distribution by Publisher\n",
    "\n",
    "This section generates a box plot to show the distribution of CVSS scores for each publisher."
   ]
  },
  {
   "cell_type": "code",
   "execution_count": null,
   "id": "69f299c5",
   "metadata": {
    "colab": {
     "base_uri": "https://localhost:8080/",
     "height": 1000
    },
    "id": "69f299c5",
    "outputId": "4cd05837-1369-486b-e146-57546f353bcd"
   },
   "outputs": [],
   "source": [
    "medians = df_cve_agg.groupby('publisher')['cvss_score'].median().sort_values()\n",
    "plt.figure(figsize=(20, 60))\n",
    "sns.boxplot(data=df_cve_agg, x='cvss_score', y='publisher', palette='Set2', order=medians.index)\n",
    "plt.title('CVSS Score Distribution by Publisher')\n",
    "plt.xlabel('CVSS Score')\n",
    "plt.ylabel('Publisher')\n",
    "\n",
    "# Adding median values as labels\n",
    "for i in range(len(medians)):\n",
    "    plt.text(medians[i], i, f'{medians[i]:.2f}', va='center', ha='left', color='black', fontweight='bold')\n",
    "\n",
    "# Save the figure as a PNG file\n",
    "plt.savefig('cvss_score_distribution_by_publisher.png')\n",
    "\n",
    "plt.show()"
   ]
  },
  {
   "cell_type": "markdown",
   "id": "93QuWlAneTE9",
   "metadata": {
    "id": "93QuWlAneTE9"
   },
   "source": [
    "## Distribution of CVSS Score, Impact Score, and Exploitability Score\n",
    "\n",
    "This section creates a box plot to show the distribution of CVSS scores, impact scores, and exploitability scores."
   ]
  },
  {
   "cell_type": "code",
   "execution_count": null,
   "id": "b5a11b56",
   "metadata": {
    "id": "b5a11b56"
   },
   "outputs": [],
   "source": [
    "# Plot 4: Box plot showing the CVSS score, impact score, and exploitability score\n",
    "plt.figure(figsize=(12, 8))\n",
    "sns.boxplot(data=df[['cvss_score', 'impact_score', 'exploitability_score']], palette='Set3')\n",
    "plt.title('Distribution of CVSS Score, Impact Score, and Exploitability Score')\n",
    "plt.xlabel('Score Type')\n",
    "plt.ylabel('Score')\n",
    "plt.show()"
   ]
  },
  {
   "cell_type": "markdown",
   "id": "65fRoCtDeTE9",
   "metadata": {
    "id": "65fRoCtDeTE9"
   },
   "source": [
    "## Distribution of Tactics\n",
    "\n",
    "This section displays a pie chart to show the distribution of different tactics."
   ]
  },
  {
   "cell_type": "code",
   "execution_count": null,
   "id": "4991b8f4",
   "metadata": {
    "colab": {
     "base_uri": "https://localhost:8080/",
     "height": 211
    },
    "id": "4991b8f4",
    "outputId": "da6e9376-1d11-4729-da50-fb07852a73c9"
   },
   "outputs": [],
   "source": [
    "# Plot 5: Pie chart on the tactics\n",
    "tactic_counts = df['tactic_label'].value_counts()\n",
    "plt.figure(figsize=(10, 10))\n",
    "tactic_counts.plot.pie(autopct='%1.1f%%', colors=sns.color_palette('pastel'), startangle=140)\n",
    "plt.title('Distribution of Tactics')\n",
    "plt.ylabel('')\n",
    "plt.show()"
   ]
  },
  {
   "cell_type": "markdown",
   "id": "LVAeXidOeTE-",
   "metadata": {
    "id": "LVAeXidOeTE-"
   },
   "source": [
    "## Distribution of Defend IDs\n",
    "\n",
    "This section displays a pie chart to show the distribution of different defend IDs."
   ]
  },
  {
   "cell_type": "code",
   "execution_count": null,
   "id": "0e65e218",
   "metadata": {
    "id": "0e65e218"
   },
   "outputs": [],
   "source": [
    "# Plot 6: Pie chart on the defend_ids\n",
    "defend_id_counts = df['d3fend_id'].value_counts()\n",
    "plt.figure(figsize=(10, 10))\n",
    "defend_id_counts.plot.pie(autopct='%1.1f%%', colors=sns.color_palette('muted'), startangle=140)\n",
    "plt.title('Distribution of Defend IDs')\n",
    "plt.ylabel('')\n",
    "plt.show()"
   ]
  }
 ],
 "metadata": {
  "colab": {
   "provenance": []
  },
  "kernelspec": {
   "display_name": "Python 3 (ipykernel)",
   "language": "python",
   "name": "python3"
  },
  "language_info": {
   "codemirror_mode": {
    "name": "ipython",
    "version": 3
   },
   "file_extension": ".py",
   "mimetype": "text/x-python",
   "name": "python",
   "nbconvert_exporter": "python",
   "pygments_lexer": "ipython3",
   "version": "3.11.5"
  }
 },
 "nbformat": 4,
 "nbformat_minor": 5
}
